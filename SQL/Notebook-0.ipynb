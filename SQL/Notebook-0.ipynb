{
    "metadata": {
        "kernelspec": {
            "name": "SQL",
            "display_name": "SQL",
            "language": "sql"
        },
        "language_info": {
            "name": "sql",
            "version": ""
        }
    },
    "nbformat_minor": 2,
    "nbformat": 4,
    "cells": [
        {
            "cell_type": "markdown",
            "source": [
                "# Azure Data Studio Notebook\n",
                "\n",
                "This notebook is created using Azure Data Studio. To learn more, see the article titled [\"Use Jupyter Notebooks in Azure Data Studio\"](https://learn.microsoft.com/en-us/sql/azure-data-studio/notebooks/notebooks-guidance?view=sql-server-ver16).\n",
                "\n",
                "1. Connect to a database\n",
                "1. Execute the following cell to see the database name"
            ],
            "metadata": {
                "azdata_cell_guid": "c840be24-965d-47f4-98a4-0f7dd7cc919d"
            },
            "attachments": {}
        },
        {
            "cell_type": "code",
            "source": [
                "SELECT DB_NAME() AS 'Active Database Context'"
            ],
            "metadata": {
                "azdata_cell_guid": "0078cd89-c5c6-4130-a1b7-aefc31b2465a",
                "language": "sql",
                "tags": [
                    "hide_input"
                ]
            },
            "outputs": [
                {
                    "output_type": "display_data",
                    "data": {
                        "text/html": "(1 row affected)"
                    },
                    "metadata": {}
                },
                {
                    "output_type": "display_data",
                    "data": {
                        "text/html": "Total execution time: 00:00:00.010"
                    },
                    "metadata": {}
                },
                {
                    "output_type": "execute_result",
                    "metadata": {},
                    "execution_count": 1,
                    "data": {
                        "application/vnd.dataresource+json": {
                            "schema": {
                                "fields": [
                                    {
                                        "name": "Active Database Context"
                                    }
                                ]
                            },
                            "data": [
                                {
                                    "0": "master"
                                }
                            ]
                        },
                        "text/html": [
                            "<table>",
                            "<tr><th>Active Database Context</th></tr>",
                            "<tr><td>master</td></tr>",
                            "</table>"
                        ]
                    }
                }
            ],
            "execution_count": 1
        },
        {
            "cell_type": "markdown",
            "source": [
                "Edit the \\`USE\\` statement in the following notebook cell to identify which database you want to work in. The run that cell to make the change."
            ],
            "metadata": {
                "language": "sql",
                "azdata_cell_guid": "de12b62d-0d07-4152-8d40-2cc4ff089ec5"
            },
            "attachments": {}
        },
        {
            "cell_type": "code",
            "source": [
                "USE [A03-School]\r\n",
                "GO\r\n",
                "SELECT DB_NAME() AS 'Active Database Context'"
            ],
            "metadata": {
                "language": "sql",
                "azdata_cell_guid": "fa5e71c8-64fe-43c1-bb3a-d26fb6669d27"
            },
            "outputs": [],
            "execution_count": null
        },
        {
            "cell_type": "markdown",
            "source": [
                "## Overview\r\n",
                "\r\n",
                "The idea of working with queries is to retrieve information from databases. It's the **'R'** in CRUD (Create, Read, Update, and Delete) as well as the **'R'** in READ (Retrieve, Edit, Add, Delete).\r\n",
                "\r\n",
                "Pulling information from a database makes no changes to the contents of the database tables - it's simply a way to get (and potentially \"reshape\") information that we are interested in.\r\n",
                "\r\n",
                "`SELECT` statements have 6 clauses:\r\n",
                "\r\n",
                "- **`SELECT` clause** - Identify the data we want to retrieve\r\n",
                "- **`FROM` clause** - Identify where to get that data (one or more tables/views)\r\n",
                "- **`WHERE` clause** - Filter the rows based on some condition\r\n",
                "- **`GROUP BY` clause** - Group information (typically for Aggregation purposes: `AVG`, `COUNT`, `SUM`, etc.)\r\n",
                "- **`HAVING` clause** - Filter the grouped information based on some aggregate value(s)\r\n",
                "- **`ORDER BY` clause** - Sort the results\r\n",
                "\r\n",
                "Once you know how the basics of `SELECT` statements work, you can begin making more complex queries through **subqueries**. Your queries can also be stored as part of the database in these things called **Views**. We can then turn around and use the Views we've created as the source of the information we want in the FROM clause of any new query we want to make.\r\n",
                "\r\n",
                "Lastly, we'll looked at using the `UNION` keyword to bring together the results of two or more `SELECT` statements as a single result table.\r\n",
                "\r\n",
                "----"
            ],
            "metadata": {
                "azdata_cell_guid": "96fd4526-399c-4eb0-b5f3-5b6fea601726"
            },
            "attachments": {}
        }
    ]
}